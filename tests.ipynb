{
 "cells": [
  {
   "cell_type": "code",
   "execution_count": 1,
   "metadata": {},
   "outputs": [],
   "source": [
    "from helper import get_openai_api_key\n",
    "OPENAI_API_KEY = get_openai_api_key()"
   ]
  },
  {
   "cell_type": "code",
   "execution_count": 2,
   "metadata": {},
   "outputs": [],
   "source": [
    "import nest_asyncio\n",
    "import asyncio\n",
    "nest_asyncio.apply()"
   ]
  },
  {
   "cell_type": "code",
   "execution_count": null,
   "metadata": {},
   "outputs": [],
   "source": [
    "# from rags import get_router_query_engine\n",
    "\n",
    "# file_path = \"./datasets/lora.pdf\"\n",
    "# query = \"What are LOW-RANK-PARAMETRIZED UPDATE MATRICES?\"\n",
    "\n",
    "# async def main():\n",
    "#     response = await get_router_query_engine(file_path, query)\n",
    "#     print(response)\n",
    "\n",
    "# # Run the async function\n",
    "# await main()"
   ]
  },
  {
   "cell_type": "code",
   "execution_count": 3,
   "metadata": {},
   "outputs": [
    {
     "name": "stderr",
     "output_type": "stream",
     "text": [
      "c:\\Users\\Admin\\AppData\\Local\\pypoetry\\Cache\\virtualenvs\\rags-agent-h2EaaEnM-py3.12\\Lib\\site-packages\\requests\\__init__.py:86: RequestsDependencyWarning: Unable to find acceptable character detection dependency (chardet or charset_normalizer).\n",
      "  warnings.warn(\n"
     ]
    },
    {
     "name": "stdout",
     "output_type": "stream",
     "text": [
      "=== Calling Function ===\n",
      "Calling function: summary_tool with args: {\"input\": \"LOW-RANK-PARAMETRIZED UPDATE MATRICES\"}\n",
      "=== Function Output ===\n",
      "The low-rank parametrized update matrices approach involves constraining weight updates to have a low \"intrinsic rank,\" optimizing rank decomposition matrices for training dense layers indirectly while keeping pre-trained weights frozen. This method significantly reduces trainable parameters, leading to efficient adaptation for downstream tasks. It also reduces memory and storage usage, enabling easier task-switching and lower hardware requirements. Additionally, it ensures no additional inference latency compared to fully fine-tuned models. The approach involves amplifying task-specific directions within the model for downstream task adaptation, exploring the correlation between different layers, the effect of varying the rank parameter, and the amplification factor for task-specific directions in the update matrices. The study indicates that the intrinsic rank needed for representing task-specific directions is generally low, and the amplification factor varies based on the chosen rank parameter for the adaptation process.\n"
     ]
    },
    {
     "ename": "TypeError",
     "evalue": "object AgentChatResponse can't be used in 'await' expression",
     "output_type": "error",
     "traceback": [
      "\u001b[1;31m---------------------------------------------------------------------------\u001b[0m",
      "\u001b[1;31mTypeError\u001b[0m                                 Traceback (most recent call last)",
      "Cell \u001b[1;32mIn[3], line 6\u001b[0m\n\u001b[0;32m      3\u001b[0m file_path \u001b[38;5;241m=\u001b[39m \u001b[38;5;124m\"\u001b[39m\u001b[38;5;124m./datasets/lora.pdf\u001b[39m\u001b[38;5;124m\"\u001b[39m\n\u001b[0;32m      4\u001b[0m query \u001b[38;5;241m=\u001b[39m \u001b[38;5;124m\"\u001b[39m\u001b[38;5;124mWhat are LOW-RANK-PARAMETRIZED UPDATE MATRICES?\u001b[39m\u001b[38;5;124m\"\u001b[39m\n\u001b[1;32m----> 6\u001b[0m response \u001b[38;5;241m=\u001b[39m \u001b[38;5;28;01mawait\u001b[39;00m get_router_query_engine(file_path, query)\n\u001b[0;32m      8\u001b[0m \u001b[38;5;28mprint\u001b[39m (\u001b[38;5;28mstr\u001b[39m(response))\n",
      "File \u001b[1;32mc:\\masterpiece\\llama-rags\\rags-agent\\rags.py:66\u001b[0m, in \u001b[0;36mget_router_query_engine\u001b[1;34m(file_path, query, pages)\u001b[0m\n\u001b[0;32m     59\u001b[0m summary_tool \u001b[38;5;241m=\u001b[39m QueryEngineTool\u001b[38;5;241m.\u001b[39mfrom_defaults(\n\u001b[0;32m     60\u001b[0m     name\u001b[38;5;241m=\u001b[39m\u001b[38;5;124m\"\u001b[39m\u001b[38;5;124msummary_tool\u001b[39m\u001b[38;5;124m\"\u001b[39m,\n\u001b[0;32m     61\u001b[0m     query_engine\u001b[38;5;241m=\u001b[39msummary_query_engine,\n\u001b[0;32m     62\u001b[0m     description\u001b[38;5;241m=\u001b[39m\u001b[38;5;124m\"\u001b[39m\u001b[38;5;124mUseful if you want to get a summary of the document\u001b[39m\u001b[38;5;124m\"\u001b[39m\n\u001b[0;32m     63\u001b[0m )\n\u001b[0;32m     65\u001b[0m \u001b[38;5;66;03m# Perform query\u001b[39;00m\n\u001b[1;32m---> 66\u001b[0m response \u001b[38;5;241m=\u001b[39m \u001b[38;5;28;01mawait\u001b[39;00m llm\u001b[38;5;241m.\u001b[39mpredict_and_call(\n\u001b[0;32m     67\u001b[0m     [vector_query_tool, summary_tool], \n\u001b[0;32m     68\u001b[0m     query, \n\u001b[0;32m     69\u001b[0m     verbose\u001b[38;5;241m=\u001b[39m\u001b[38;5;28;01mTrue\u001b[39;00m\n\u001b[0;32m     70\u001b[0m )\n\u001b[0;32m     72\u001b[0m \u001b[38;5;28;01mreturn\u001b[39;00m response\n",
      "\u001b[1;31mTypeError\u001b[0m: object AgentChatResponse can't be used in 'await' expression"
     ]
    }
   ],
   "source": [
    "from rags import get_router_query_engine\n",
    "\n",
    "file_path = \"./datasets/lora.pdf\"\n",
    "query = \"What are LOW-RANK-PARAMETRIZED UPDATE MATRICES?\"\n",
    "\n",
    "response = await get_router_query_engine(file_path, query)\n",
    "\n",
    "print (str(response))"
   ]
  }
 ],
 "metadata": {
  "kernelspec": {
   "display_name": "llama-env",
   "language": "python",
   "name": "llama-env"
  },
  "language_info": {
   "codemirror_mode": {
    "name": "ipython",
    "version": 3
   },
   "file_extension": ".py",
   "mimetype": "text/x-python",
   "name": "python",
   "nbconvert_exporter": "python",
   "pygments_lexer": "ipython3",
   "version": "3.12.4"
  }
 },
 "nbformat": 4,
 "nbformat_minor": 2
}
