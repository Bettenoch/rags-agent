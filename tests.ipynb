{
 "cells": [
  {
   "cell_type": "code",
   "execution_count": 1,
   "metadata": {},
   "outputs": [],
   "source": [
    "from helper import get_openai_api_key\n",
    "OPENAI_API_KEY = get_openai_api_key()"
   ]
  },
  {
   "cell_type": "code",
   "execution_count": 10,
   "metadata": {},
   "outputs": [],
   "source": [
    "import nest_asyncio\n",
    "import asyncio\n",
    "nest_asyncio.apply()"
   ]
  },
  {
   "cell_type": "code",
   "execution_count": null,
   "metadata": {},
   "outputs": [],
   "source": [
    "# from rags import get_router_query_engine\n",
    "\n",
    "# file_path = \"./datasets/lora.pdf\"\n",
    "# query = \"What are LOW-RANK-PARAMETRIZED UPDATE MATRICES?\"\n",
    "\n",
    "# async def main():\n",
    "#     response = await get_router_query_engine(file_path, query)\n",
    "#     print(response)\n",
    "\n",
    "# # Run the async function\n",
    "# await main()"
   ]
  },
  {
   "cell_type": "code",
   "execution_count": 14,
   "metadata": {},
   "outputs": [
    {
     "name": "stdout",
     "output_type": "stream",
     "text": [
      "<coroutine object get_router_query_engine at 0x000001E60E86B740>\n"
     ]
    },
    {
     "name": "stderr",
     "output_type": "stream",
     "text": [
      "C:\\Users\\Admin\\AppData\\Local\\Temp\\ipykernel_1828\\3803425907.py:6: RuntimeWarning: coroutine 'get_router_query_engine' was never awaited\n",
      "  response = get_router_query_engine(file_path, query)\n",
      "RuntimeWarning: Enable tracemalloc to get the object allocation traceback\n"
     ]
    }
   ],
   "source": [
    "from rags import get_router_query_engine\n",
    "\n",
    "file_path = \"./datasets/lora.pdf\"\n",
    "query = \"What are LOW-RANK-PARAMETRIZED UPDATE MATRICES?\"\n",
    "\n",
    "response = get_router_query_engine(file_path, query)\n",
    "\n",
    "print (str(response))"
   ]
  }
 ],
 "metadata": {
  "kernelspec": {
   "display_name": "llama-env",
   "language": "python",
   "name": "llama-env"
  },
  "language_info": {
   "codemirror_mode": {
    "name": "ipython",
    "version": 3
   },
   "file_extension": ".py",
   "mimetype": "text/x-python",
   "name": "python",
   "nbconvert_exporter": "python",
   "pygments_lexer": "ipython3",
   "version": "3.12.4"
  }
 },
 "nbformat": 4,
 "nbformat_minor": 2
}
